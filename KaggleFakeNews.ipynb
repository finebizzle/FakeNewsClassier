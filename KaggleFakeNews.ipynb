{
 "cells": [
  {
   "cell_type": "code",
   "execution_count": 2,
   "metadata": {
    "collapsed": false,
    "scrolled": true
   },
   "outputs": [
    {
     "data": {
      "text/html": [
       "<div>\n",
       "<table border=\"1\" class=\"dataframe\">\n",
       "  <thead>\n",
       "    <tr style=\"text-align: right;\">\n",
       "      <th></th>\n",
       "      <th>Unnamed: 0</th>\n",
       "      <th>Headline</th>\n",
       "      <th>unrelated</th>\n",
       "      <th>agree</th>\n",
       "      <th>disagree</th>\n",
       "      <th>discuss</th>\n",
       "      <th>Body</th>\n",
       "      <th>Number.Of.Common.Words</th>\n",
       "      <th>Number.Of.Words.In.Body</th>\n",
       "      <th>Number.Of.Words.In.Headline</th>\n",
       "      <th>Stance</th>\n",
       "    </tr>\n",
       "  </thead>\n",
       "  <tbody>\n",
       "    <tr>\n",
       "      <th>0</th>\n",
       "      <td>1</td>\n",
       "      <td>police find mass graves with at least bodies n...</td>\n",
       "      <td>1</td>\n",
       "      <td>0</td>\n",
       "      <td>0</td>\n",
       "      <td>0</td>\n",
       "      <td>danny boyle is directing the untitled film set...</td>\n",
       "      <td>2</td>\n",
       "      <td>198</td>\n",
       "      <td>17</td>\n",
       "      <td>unrelated</td>\n",
       "    </tr>\n",
       "    <tr>\n",
       "      <th>1</th>\n",
       "      <td>2</td>\n",
       "      <td>hundreds of palestinians flee floods in gaza a...</td>\n",
       "      <td>0</td>\n",
       "      <td>1</td>\n",
       "      <td>0</td>\n",
       "      <td>0</td>\n",
       "      <td>hundreds of palestinians were evacuated from t...</td>\n",
       "      <td>10</td>\n",
       "      <td>429</td>\n",
       "      <td>11</td>\n",
       "      <td>agree</td>\n",
       "    </tr>\n",
       "    <tr>\n",
       "      <th>2</th>\n",
       "      <td>3</td>\n",
       "      <td>christian bale passes on role of steve jobs ac...</td>\n",
       "      <td>1</td>\n",
       "      <td>0</td>\n",
       "      <td>0</td>\n",
       "      <td>0</td>\n",
       "      <td>year old moscow resident was hospitalized with...</td>\n",
       "      <td>4</td>\n",
       "      <td>187</td>\n",
       "      <td>17</td>\n",
       "      <td>unrelated</td>\n",
       "    </tr>\n",
       "    <tr>\n",
       "      <th>3</th>\n",
       "      <td>4</td>\n",
       "      <td>hbo and apple in talks for month apple tv stre...</td>\n",
       "      <td>1</td>\n",
       "      <td>0</td>\n",
       "      <td>0</td>\n",
       "      <td>0</td>\n",
       "      <td>reuters a canadian soldier was shot at the can...</td>\n",
       "      <td>2</td>\n",
       "      <td>79</td>\n",
       "      <td>14</td>\n",
       "      <td>unrelated</td>\n",
       "    </tr>\n",
       "    <tr>\n",
       "      <th>4</th>\n",
       "      <td>5</td>\n",
       "      <td>spider burrowed through tourist s stomach and ...</td>\n",
       "      <td>0</td>\n",
       "      <td>0</td>\n",
       "      <td>1</td>\n",
       "      <td>0</td>\n",
       "      <td>fear not arachnophobes the story of bunbury s ...</td>\n",
       "      <td>9</td>\n",
       "      <td>627</td>\n",
       "      <td>11</td>\n",
       "      <td>disagree</td>\n",
       "    </tr>\n",
       "    <tr>\n",
       "      <th>5</th>\n",
       "      <td>6</td>\n",
       "      <td>nasa confirms earth will experience days of to...</td>\n",
       "      <td>0</td>\n",
       "      <td>1</td>\n",
       "      <td>0</td>\n",
       "      <td>0</td>\n",
       "      <td>thousands of people have been duped by a fake ...</td>\n",
       "      <td>16</td>\n",
       "      <td>425</td>\n",
       "      <td>16</td>\n",
       "      <td>agree</td>\n",
       "    </tr>\n",
       "    <tr>\n",
       "      <th>6</th>\n",
       "      <td>7</td>\n",
       "      <td>accused boston marathon bomber severely injure...</td>\n",
       "      <td>1</td>\n",
       "      <td>0</td>\n",
       "      <td>0</td>\n",
       "      <td>0</td>\n",
       "      <td>a british fighter who travelled to iraq to sto...</td>\n",
       "      <td>2</td>\n",
       "      <td>961</td>\n",
       "      <td>14</td>\n",
       "      <td>unrelated</td>\n",
       "    </tr>\n",
       "    <tr>\n",
       "      <th>7</th>\n",
       "      <td>8</td>\n",
       "      <td>identity of isis terrorist known as jihadi joh...</td>\n",
       "      <td>1</td>\n",
       "      <td>0</td>\n",
       "      <td>0</td>\n",
       "      <td>0</td>\n",
       "      <td>adding to apple s ios launch troubles a report...</td>\n",
       "      <td>2</td>\n",
       "      <td>315</td>\n",
       "      <td>10</td>\n",
       "      <td>unrelated</td>\n",
       "    </tr>\n",
       "    <tr>\n",
       "      <th>8</th>\n",
       "      <td>9</td>\n",
       "      <td>banksy arrested real identity revealed is the ...</td>\n",
       "      <td>0</td>\n",
       "      <td>1</td>\n",
       "      <td>0</td>\n",
       "      <td>0</td>\n",
       "      <td>if you ve seen a story floating around on your...</td>\n",
       "      <td>8</td>\n",
       "      <td>347</td>\n",
       "      <td>12</td>\n",
       "      <td>agree</td>\n",
       "    </tr>\n",
       "    <tr>\n",
       "      <th>9</th>\n",
       "      <td>10</td>\n",
       "      <td>british aid worker confirmed murdered by isis</td>\n",
       "      <td>1</td>\n",
       "      <td>0</td>\n",
       "      <td>0</td>\n",
       "      <td>0</td>\n",
       "      <td>the british islamic state militant who has fea...</td>\n",
       "      <td>4</td>\n",
       "      <td>238</td>\n",
       "      <td>7</td>\n",
       "      <td>unrelated</td>\n",
       "    </tr>\n",
       "  </tbody>\n",
       "</table>\n",
       "</div>"
      ],
      "text/plain": [
       "   Unnamed: 0                                           Headline  unrelated  \\\n",
       "0           1  police find mass graves with at least bodies n...          1   \n",
       "1           2  hundreds of palestinians flee floods in gaza a...          0   \n",
       "2           3  christian bale passes on role of steve jobs ac...          1   \n",
       "3           4  hbo and apple in talks for month apple tv stre...          1   \n",
       "4           5  spider burrowed through tourist s stomach and ...          0   \n",
       "5           6  nasa confirms earth will experience days of to...          0   \n",
       "6           7  accused boston marathon bomber severely injure...          1   \n",
       "7           8  identity of isis terrorist known as jihadi joh...          1   \n",
       "8           9  banksy arrested real identity revealed is the ...          0   \n",
       "9          10      british aid worker confirmed murdered by isis          1   \n",
       "\n",
       "   agree  disagree  discuss  \\\n",
       "0      0         0        0   \n",
       "1      1         0        0   \n",
       "2      0         0        0   \n",
       "3      0         0        0   \n",
       "4      0         1        0   \n",
       "5      1         0        0   \n",
       "6      0         0        0   \n",
       "7      0         0        0   \n",
       "8      1         0        0   \n",
       "9      0         0        0   \n",
       "\n",
       "                                                Body  Number.Of.Common.Words  \\\n",
       "0  danny boyle is directing the untitled film set...                       2   \n",
       "1  hundreds of palestinians were evacuated from t...                      10   \n",
       "2  year old moscow resident was hospitalized with...                       4   \n",
       "3  reuters a canadian soldier was shot at the can...                       2   \n",
       "4  fear not arachnophobes the story of bunbury s ...                       9   \n",
       "5  thousands of people have been duped by a fake ...                      16   \n",
       "6  a british fighter who travelled to iraq to sto...                       2   \n",
       "7  adding to apple s ios launch troubles a report...                       2   \n",
       "8  if you ve seen a story floating around on your...                       8   \n",
       "9  the british islamic state militant who has fea...                       4   \n",
       "\n",
       "   Number.Of.Words.In.Body  Number.Of.Words.In.Headline     Stance  \n",
       "0                      198                           17  unrelated  \n",
       "1                      429                           11      agree  \n",
       "2                      187                           17  unrelated  \n",
       "3                       79                           14  unrelated  \n",
       "4                      627                           11   disagree  \n",
       "5                      425                           16      agree  \n",
       "6                      961                           14  unrelated  \n",
       "7                      315                           10  unrelated  \n",
       "8                      347                           12      agree  \n",
       "9                      238                            7  unrelated  "
      ]
     },
     "execution_count": 2,
     "metadata": {},
     "output_type": "execute_result"
    }
   ],
   "source": [
    "import numpy as np # linear algebra\n",
    "import pandas as pd # data processing, CSV file I/O (e.g. pd.read_csv)\n",
    "\n",
    "# Input data files are available in the \"../input/\" directory.\n",
    "# For example, running this (by clicking run or pressing Shift+Enter) will list the files in the input directory\n",
    "\n",
    "import matplotlib.pyplot as plt\n",
    "import matplotlib\n",
    "matplotlib.style.use('ggplot')\n",
    "\n",
    "from subprocess import check_output\n",
    "#print(check_output([\"ls\", \"../input\"]).decode(\"utf8\"))\n",
    "stance = pd.read_csv(\"//Users//kelvin//Downloads//clean.csv\", header=0,)\n",
    "stance.head(10)"
   ]
  },
  {
   "cell_type": "code",
   "execution_count": 3,
   "metadata": {
    "collapsed": false
   },
   "outputs": [
    {
     "data": {
      "text/plain": [
       "(49972, 11)"
      ]
     },
     "execution_count": 3,
     "metadata": {},
     "output_type": "execute_result"
    }
   ],
   "source": [
    "stance.shape"
   ]
  },
  {
   "cell_type": "code",
   "execution_count": null,
   "metadata": {
    "collapsed": true
   },
   "outputs": [],
   "source": []
  },
  {
   "cell_type": "code",
   "execution_count": 4,
   "metadata": {
    "collapsed": false
   },
   "outputs": [],
   "source": [
    "stance.drop('Unnamed: 0' , axis=1, inplace=True)"
   ]
  },
  {
   "cell_type": "code",
   "execution_count": 5,
   "metadata": {
    "collapsed": false,
    "scrolled": true
   },
   "outputs": [
    {
     "data": {
      "text/html": [
       "<div>\n",
       "<table border=\"1\" class=\"dataframe\">\n",
       "  <thead>\n",
       "    <tr style=\"text-align: right;\">\n",
       "      <th></th>\n",
       "      <th>Headline</th>\n",
       "      <th>unrelated</th>\n",
       "      <th>agree</th>\n",
       "      <th>disagree</th>\n",
       "      <th>discuss</th>\n",
       "      <th>Body</th>\n",
       "      <th>Number.Of.Common.Words</th>\n",
       "      <th>Number.Of.Words.In.Body</th>\n",
       "      <th>Number.Of.Words.In.Headline</th>\n",
       "      <th>Stance</th>\n",
       "    </tr>\n",
       "  </thead>\n",
       "  <tbody>\n",
       "    <tr>\n",
       "      <th>0</th>\n",
       "      <td>police find mass graves with at least bodies n...</td>\n",
       "      <td>1</td>\n",
       "      <td>0</td>\n",
       "      <td>0</td>\n",
       "      <td>0</td>\n",
       "      <td>danny boyle is directing the untitled film set...</td>\n",
       "      <td>2</td>\n",
       "      <td>198</td>\n",
       "      <td>17</td>\n",
       "      <td>unrelated</td>\n",
       "    </tr>\n",
       "  </tbody>\n",
       "</table>\n",
       "</div>"
      ],
      "text/plain": [
       "                                            Headline  unrelated  agree  \\\n",
       "0  police find mass graves with at least bodies n...          1      0   \n",
       "\n",
       "   disagree  discuss                                               Body  \\\n",
       "0         0        0  danny boyle is directing the untitled film set...   \n",
       "\n",
       "   Number.Of.Common.Words  Number.Of.Words.In.Body  \\\n",
       "0                       2                      198   \n",
       "\n",
       "   Number.Of.Words.In.Headline     Stance  \n",
       "0                           17  unrelated  "
      ]
     },
     "execution_count": 5,
     "metadata": {},
     "output_type": "execute_result"
    }
   ],
   "source": [
    "stance.head(1)"
   ]
  },
  {
   "cell_type": "code",
   "execution_count": 8,
   "metadata": {
    "collapsed": false
   },
   "outputs": [
    {
     "data": {
      "text/plain": [
       "agree         3678\n",
       "disagree       840\n",
       "discuss       8909\n",
       "unrelated    36545\n",
       "Name: Stance, dtype: int64"
      ]
     },
     "execution_count": 8,
     "metadata": {},
     "output_type": "execute_result"
    }
   ],
   "source": [
    "# examine the class distribution\n",
    "stance.Stance.value_counts().sort_index()\n"
   ]
  },
  {
   "cell_type": "code",
   "execution_count": 8,
   "metadata": {
    "collapsed": false
   },
   "outputs": [
    {
     "name": "stdout",
     "output_type": "stream",
     "text": [
      "(49972,)\n",
      "(49972,)\n"
     ]
    }
   ],
   "source": [
    "\n",
    "# how to define X and y (from the SMS data) for use with COUNTVECTORIZER\n",
    "X = stance.Body\n",
    "y = stance.label_num\n",
    "print(X.shape)\n",
    "print(y.shape)"
   ]
  },
  {
   "cell_type": "code",
   "execution_count": 10,
   "metadata": {
    "collapsed": false,
    "scrolled": true
   },
   "outputs": [
    {
     "data": {
      "text/html": [
       "<div>\n",
       "<table border=\"1\" class=\"dataframe\">\n",
       "  <thead>\n",
       "    <tr style=\"text-align: right;\">\n",
       "      <th></th>\n",
       "      <th>Headline</th>\n",
       "      <th>unrelated</th>\n",
       "      <th>agree</th>\n",
       "      <th>disagree</th>\n",
       "      <th>discuss</th>\n",
       "      <th>Body</th>\n",
       "      <th>Number.Of.Common.Words</th>\n",
       "      <th>Number.Of.Words.In.Body</th>\n",
       "      <th>Number.Of.Words.In.Headline</th>\n",
       "      <th>Stance</th>\n",
       "      <th>label_num</th>\n",
       "    </tr>\n",
       "  </thead>\n",
       "  <tbody>\n",
       "    <tr>\n",
       "      <th>0</th>\n",
       "      <td>police find mass graves with at least bodies n...</td>\n",
       "      <td>1</td>\n",
       "      <td>0</td>\n",
       "      <td>0</td>\n",
       "      <td>0</td>\n",
       "      <td>danny boyle is directing the untitled film set...</td>\n",
       "      <td>2</td>\n",
       "      <td>198</td>\n",
       "      <td>17</td>\n",
       "      <td>unrelated</td>\n",
       "      <td>3</td>\n",
       "    </tr>\n",
       "    <tr>\n",
       "      <th>1</th>\n",
       "      <td>hundreds of palestinians flee floods in gaza a...</td>\n",
       "      <td>0</td>\n",
       "      <td>1</td>\n",
       "      <td>0</td>\n",
       "      <td>0</td>\n",
       "      <td>hundreds of palestinians were evacuated from t...</td>\n",
       "      <td>10</td>\n",
       "      <td>429</td>\n",
       "      <td>11</td>\n",
       "      <td>agree</td>\n",
       "      <td>0</td>\n",
       "    </tr>\n",
       "    <tr>\n",
       "      <th>2</th>\n",
       "      <td>christian bale passes on role of steve jobs ac...</td>\n",
       "      <td>1</td>\n",
       "      <td>0</td>\n",
       "      <td>0</td>\n",
       "      <td>0</td>\n",
       "      <td>year old moscow resident was hospitalized with...</td>\n",
       "      <td>4</td>\n",
       "      <td>187</td>\n",
       "      <td>17</td>\n",
       "      <td>unrelated</td>\n",
       "      <td>3</td>\n",
       "    </tr>\n",
       "  </tbody>\n",
       "</table>\n",
       "</div>"
      ],
      "text/plain": [
       "                                            Headline  unrelated  agree  \\\n",
       "0  police find mass graves with at least bodies n...          1      0   \n",
       "1  hundreds of palestinians flee floods in gaza a...          0      1   \n",
       "2  christian bale passes on role of steve jobs ac...          1      0   \n",
       "\n",
       "   disagree  discuss                                               Body  \\\n",
       "0         0        0  danny boyle is directing the untitled film set...   \n",
       "1         0        0  hundreds of palestinians were evacuated from t...   \n",
       "2         0        0  year old moscow resident was hospitalized with...   \n",
       "\n",
       "   Number.Of.Common.Words  Number.Of.Words.In.Body  \\\n",
       "0                       2                      198   \n",
       "1                      10                      429   \n",
       "2                       4                      187   \n",
       "\n",
       "   Number.Of.Words.In.Headline     Stance  label_num  \n",
       "0                           17  unrelated          3  \n",
       "1                           11      agree          0  \n",
       "2                           17  unrelated          3  "
      ]
     },
     "execution_count": 10,
     "metadata": {},
     "output_type": "execute_result"
    }
   ],
   "source": [
    "stance.head(3)"
   ]
  },
  {
   "cell_type": "code",
   "execution_count": 7,
   "metadata": {
    "collapsed": false
   },
   "outputs": [],
   "source": [
    "# convert label to a numerical variable\n",
    "stance['label_num'] = stance.Stance.map({'agree':0, 'disagree':1, 'discuss':2, 'unrelated':3})"
   ]
  },
  {
   "cell_type": "code",
   "execution_count": 159,
   "metadata": {
    "collapsed": true
   },
   "outputs": [],
   "source": [
    "news_bias_con = stance[(stance.label_num==0) | (stance.label_num==1)]"
   ]
  },
  {
   "cell_type": "code",
   "execution_count": 163,
   "metadata": {
    "collapsed": false
   },
   "outputs": [
    {
     "data": {
      "text/plain": [
       "(24964, 3)"
      ]
     },
     "execution_count": 163,
     "metadata": {},
     "output_type": "execute_result"
    }
   ],
   "source": [
    "news_bias_con.shape"
   ]
  },
  {
   "cell_type": "code",
   "execution_count": 161,
   "metadata": {
    "collapsed": true
   },
   "outputs": [],
   "source": [
    "X = news_bias_con.Headline\n",
    "y = news_bias_con.label_num"
   ]
  },
  {
   "cell_type": "code",
   "execution_count": 9,
   "metadata": {
    "collapsed": false
   },
   "outputs": [
    {
     "name": "stdout",
     "output_type": "stream",
     "text": [
      "(37479,)\n",
      "(12493,)\n",
      "(37479,)\n",
      "(12493,)\n"
     ]
    },
    {
     "name": "stderr",
     "output_type": "stream",
     "text": [
      "/Users/kelvin/anaconda/lib/python3.6/site-packages/sklearn/cross_validation.py:44: DeprecationWarning: This module was deprecated in version 0.18 in favor of the model_selection module into which all the refactored classes and functions are moved. Also note that the interface of the new CV iterators are different from that of this module. This module will be removed in 0.20.\n",
      "  \"This module will be removed in 0.20.\", DeprecationWarning)\n"
     ]
    }
   ],
   "source": [
    "# split X and y into training and testing sets\n",
    "from sklearn.cross_validation import train_test_split\n",
    "X_train, X_test, y_train, y_test = train_test_split(X, y, random_state=1)\n",
    "print(X_train.shape)\n",
    "print(X_test.shape)\n",
    "print(y_train.shape)\n",
    "print(y_test.shape)"
   ]
  },
  {
   "cell_type": "code",
   "execution_count": 10,
   "metadata": {
    "collapsed": false
   },
   "outputs": [],
   "source": [
    "# import and instantiate CountVectorizer\n",
    "from sklearn.feature_extraction.text import CountVectorizer\n",
    "vect = CountVectorizer()"
   ]
  },
  {
   "cell_type": "code",
   "execution_count": 11,
   "metadata": {
    "collapsed": false
   },
   "outputs": [],
   "source": [
    "# learn training data vocabulary, then use it to create a document-term matrix\n",
    "vect.fit(X_train)\n",
    "X_train_dtm = vect.transform(X_train)"
   ]
  },
  {
   "cell_type": "code",
   "execution_count": 12,
   "metadata": {
    "collapsed": false,
    "scrolled": true
   },
   "outputs": [],
   "source": [
    "# equivalently: combine fit and transform into a single step\n",
    "X_train_dtm = vect.fit_transform(X_train)"
   ]
  },
  {
   "cell_type": "code",
   "execution_count": 13,
   "metadata": {
    "collapsed": false
   },
   "outputs": [
    {
     "data": {
      "text/plain": [
       "<37479x22273 sparse matrix of type '<class 'numpy.int64'>'\n",
       "\twith 7104813 stored elements in Compressed Sparse Row format>"
      ]
     },
     "execution_count": 13,
     "metadata": {},
     "output_type": "execute_result"
    }
   ],
   "source": [
    "# examine the document-term matrix\n",
    "X_train_dtm"
   ]
  },
  {
   "cell_type": "code",
   "execution_count": null,
   "metadata": {
    "collapsed": false
   },
   "outputs": [
    {
     "data": {
      "text/plain": [
       "<12493x22273 sparse matrix of type '<class 'numpy.int64'>'\n",
       "\twith 2360224 stored elements in Compressed Sparse Row format>"
      ]
     },
     "execution_count": 14,
     "metadata": {},
     "output_type": "execute_result"
    }
   ],
   "source": [
    "# transform testing data (using fitted vocabulary) into a document-term matrix\n",
    "X_test_dtm = vect.transform(X_test)\n",
    "X_test_dtm"
   ]
  },
  {
   "cell_type": "code",
   "execution_count": 19,
   "metadata": {
    "collapsed": true
   },
   "outputs": [],
   "source": [
    "# import and instantiate a Multinomial Naive Bayes model\n",
    "from sklearn.naive_bayes import MultinomialNB\n",
    "nb = MultinomialNB()"
   ]
  },
  {
   "cell_type": "code",
   "execution_count": 20,
   "metadata": {
    "collapsed": false
   },
   "outputs": [
    {
     "name": "stdout",
     "output_type": "stream",
     "text": [
      "CPU times: user 98.6 ms, sys: 14.5 ms, total: 113 ms\n",
      "Wall time: 115 ms\n"
     ]
    },
    {
     "data": {
      "text/plain": [
       "MultinomialNB(alpha=1.0, class_prior=None, fit_prior=True)"
      ]
     },
     "execution_count": 20,
     "metadata": {},
     "output_type": "execute_result"
    }
   ],
   "source": [
    "# train the model using X_train_dtm (timing it with an IPython \"magic command\")\n",
    "%time nb.fit(X_train_dtm, y_train)"
   ]
  },
  {
   "cell_type": "code",
   "execution_count": 21,
   "metadata": {
    "collapsed": true
   },
   "outputs": [],
   "source": [
    "# make class predictions for X_test_dtm\n",
    "y_pred_class = nb.predict(X_test_dtm)"
   ]
  },
  {
   "cell_type": "code",
   "execution_count": 22,
   "metadata": {
    "collapsed": false
   },
   "outputs": [
    {
     "data": {
      "text/plain": [
       "0.48595213319458896"
      ]
     },
     "execution_count": 22,
     "metadata": {},
     "output_type": "execute_result"
    }
   ],
   "source": [
    "# calculate accuracy of class predictions\n",
    "from sklearn import metrics\n",
    "metrics.accuracy_score(y_test, y_pred_class)"
   ]
  },
  {
   "cell_type": "code",
   "execution_count": 23,
   "metadata": {
    "collapsed": false
   },
   "outputs": [
    {
     "data": {
      "text/plain": [
       "3    0.726727\n",
       "Name: label_num, dtype: float64"
      ]
     },
     "execution_count": 23,
     "metadata": {},
     "output_type": "execute_result"
    }
   ],
   "source": [
    "# null acuracy\n",
    "y_test.value_counts().head(1) / y_test.shape"
   ]
  },
  {
   "cell_type": "code",
   "execution_count": 24,
   "metadata": {
    "collapsed": false
   },
   "outputs": [
    {
     "data": {
      "text/plain": [
       "array([[ 442,  144,  227,  110],\n",
       "       [  29,  140,   30,   23],\n",
       "       [ 196,  189, 1451,  433],\n",
       "       [1714,  938, 2389, 4038]])"
      ]
     },
     "execution_count": 24,
     "metadata": {},
     "output_type": "execute_result"
    }
   ],
   "source": [
    "# print the confusion matrix\n",
    "metrics.confusion_matrix(y_test, y_pred_class)"
   ]
  },
  {
   "cell_type": "code",
   "execution_count": 25,
   "metadata": {
    "collapsed": false
   },
   "outputs": [
    {
     "name": "stdout",
     "output_type": "stream",
     "text": [
      "             precision    recall  f1-score   support\n",
      "\n",
      "          0       0.19      0.48      0.27       923\n",
      "          1       0.10      0.63      0.17       222\n",
      "          2       0.35      0.64      0.46      2269\n",
      "          3       0.88      0.44      0.59      9079\n",
      "\n",
      "avg / total       0.72      0.49      0.53     12493\n",
      "\n"
     ]
    }
   ],
   "source": [
    "# print the classification report\n",
    "print(metrics.classification_report(y_test, y_pred_class))"
   ]
  },
  {
   "cell_type": "code",
   "execution_count": 26,
   "metadata": {
    "collapsed": false
   },
   "outputs": [
    {
     "data": {
      "text/plain": [
       "48435    hbo plans to launch its stand alone net video ...\n",
       "28405    a man dubbed the guru in bling allegedly convi...\n",
       "10084    the man who scaled the white house fence and w...\n",
       "41858    a recent report from cosmic book news stated t...\n",
       "17361    no suspected cases of ebola have been found in...\n",
       "18252    a report that says a family in the town of pur...\n",
       "11613    matt taibbi takes a leave of absence from firs...\n",
       "36329    when apple introduced its apple watch in septe...\n",
       "21740    a former pga tour player claims tiger woods ha...\n",
       "11004    the pentagon confirmed that a cache of weapons...\n",
       "30653    sources in the kurdish underground in syria de...\n",
       "34351    the cheese loving tyrant was last seen in publ...\n",
       "12046    gill rosenberg the canadian israeli volunteer ...\n",
       "5520     a year old member of the isis terror group has...\n",
       "29932    the frightening story about a spider that repo...\n",
       "16799    homeland security secretary jeh johnson says i...\n",
       "43956    that s how much walmart reported pulled in per...\n",
       "36570    late last month as apple fans were joyously sp...\n",
       "37616    jordan s king abdullah announced he was cuttin...\n",
       "3991     along with unveiling the apple watch earlier t...\n",
       "36070    eleven iraqi police officers were taken to hos...\n",
       "38269    the reveal of the apple watch was unusual for ...\n",
       "37841    u s officials tuesday expressed fears that isl...\n",
       "46388    there are conflicting claims about isis being ...\n",
       "37807    here s an important heads up if you keep docum...\n",
       "7259     amazon is set to launch a free ad supported vi...\n",
       "4754     north koreans are prohibited from sharing the ...\n",
       "39865    the following is one of the most unusual media...\n",
       "15969    congressional republicans have been pushing th...\n",
       "49878    the weather channel s mike seidel has taken a ...\n",
       "                               ...                        \n",
       "28295    earlier today the detroit media reported on ru...\n",
       "18550    a former pga tour player claims tiger woods ha...\n",
       "38108    after being officially dead for minutes and ha...\n",
       "26615    apple may be planning to hold a media event in...\n",
       "26641    the cbi has booked dera sacha sauda chief gurm...\n",
       "41082    not news a fabricated story coming out of nort...\n",
       "18419    with christian bale already secured to play th...\n",
       "15626    ahmed abdi godane the leader of al shabab the ...\n",
       "6319     update since the publication of this article s...\n",
       "26584    breaking islamic state in video beheads americ...\n",
       "41668    piper jaffray s gene munster has issued a new ...\n",
       "28454    nicaraguan officials say a meteorite gouged ou...\n",
       "23497    mates casey dean and eduard nitz wish a happy ...\n",
       "30586    a rumor on tuesday claims apple s upcoming app...\n",
       "33054    ahmed abdi godane the leader of al shabab the ...\n",
       "42125    he s the teen wolf of wall street a kid from q...\n",
       "34709    pope francis suggested recently that even anim...\n",
       "23157    north korean dictator kim jong un is consideri...\n",
       "19868    in a video posted online tuesday isis beheads ...\n",
       "49171    rumours that the caped crusader s ride has bee...\n",
       "28069    russian president vladimir putin last friday u...\n",
       "30181    amidst all the fist pumping and bono goofing y...\n",
       "19024    the department of homeland security is denying...\n",
       "20627    washington cnn the man who jumped the white ho...\n",
       "17662    mediaite writes about cnn s morning show quest...\n",
       "48715    breaking j j abrams has reportedly approached ...\n",
       "5549     a homeless man was given a hundred dollars and...\n",
       "32429    it started as a somewhat cynical social experi...\n",
       "21659    less than two weeks after aaron sorkin said th...\n",
       "22321    toronto ontario canadian official identifies d...\n",
       "Name: Body, dtype: object"
      ]
     },
     "execution_count": 26,
     "metadata": {},
     "output_type": "execute_result"
    }
   ],
   "source": [
    "# print message text for the false positives (ham incorrectly classified as spam)\n",
    "X_test[y_test < y_pred_class]"
   ]
  },
  {
   "cell_type": "code",
   "execution_count": null,
   "metadata": {
    "collapsed": true
   },
   "outputs": [],
   "source": [
    "# calculate predicted probabilities for X_test_dtm (poorly calibrated)\n",
    "y_pred_prob = nb.predict_proba(X_test_dtm)[:, 1]\n",
    "y_pred_prob"
   ]
  },
  {
   "cell_type": "code",
   "execution_count": null,
   "metadata": {
    "collapsed": true
   },
   "outputs": [],
   "source": [
    "# calculate AUC\n",
    "metrics.roc_auc_score(y_test, y_pred_prob)"
   ]
  },
  {
   "cell_type": "code",
   "execution_count": 27,
   "metadata": {
    "collapsed": true
   },
   "outputs": [],
   "source": [
    "from sklearn.ensemble import RandomForestClassifier\n",
    "#forest = RandomForestClassifier(n_estimators = 100)\n",
    "forest = RandomForestClassifier(max_depth = 10, min_samples_split=2, n_estimators = 100, random_state = 1)\n",
    "my_forest = forest.fit(X_train_dtm, y_train)"
   ]
  },
  {
   "cell_type": "code",
   "execution_count": 28,
   "metadata": {
    "collapsed": false,
    "scrolled": true
   },
   "outputs": [
    {
     "name": "stdout",
     "output_type": "stream",
     "text": [
      "0.75060700659\n"
     ]
    }
   ],
   "source": [
    "print(my_forest.score(X_train_dtm, y_train))"
   ]
  },
  {
   "cell_type": "code",
   "execution_count": null,
   "metadata": {
    "collapsed": true
   },
   "outputs": [],
   "source": [
    "from sklearn.metrics import precision_recall_fscore_support\n",
    "precision_recall_fscore_support(X_train_dtm, y_train)"
   ]
  },
  {
   "cell_type": "code",
   "execution_count": 29,
   "metadata": {
    "collapsed": true
   },
   "outputs": [],
   "source": [
    "# import and instantiate a logistic regression model\n",
    "from sklearn.linear_model import LogisticRegression\n",
    "logreg = LogisticRegression()"
   ]
  },
  {
   "cell_type": "code",
   "execution_count": 30,
   "metadata": {
    "collapsed": false
   },
   "outputs": [
    {
     "name": "stdout",
     "output_type": "stream",
     "text": [
      "CPU times: user 3min 43s, sys: 1.81 s, total: 3min 45s\n",
      "Wall time: 1min 55s\n"
     ]
    },
    {
     "data": {
      "text/plain": [
       "LogisticRegression(C=1.0, class_weight=None, dual=False, fit_intercept=True,\n",
       "          intercept_scaling=1, max_iter=100, multi_class='ovr', n_jobs=1,\n",
       "          penalty='l2', random_state=None, solver='liblinear', tol=0.0001,\n",
       "          verbose=0, warm_start=False)"
      ]
     },
     "execution_count": 30,
     "metadata": {},
     "output_type": "execute_result"
    }
   ],
   "source": [
    "# train the model using X_train_dtm\n",
    "%time logreg.fit(X_train_dtm, y_train)"
   ]
  },
  {
   "cell_type": "code",
   "execution_count": 31,
   "metadata": {
    "collapsed": true
   },
   "outputs": [],
   "source": [
    "# make class predictions for X_test_dtm\n",
    "y_pred_class = logreg.predict(X_test_dtm)"
   ]
  },
  {
   "cell_type": "code",
   "execution_count": 32,
   "metadata": {
    "collapsed": false
   },
   "outputs": [
    {
     "data": {
      "text/plain": [
       "array([  3.25742548e-06,   5.76377942e-05,   2.16178814e-05, ...,\n",
       "         2.38160579e-01,   6.28051171e-05,   8.42752570e-11])"
      ]
     },
     "execution_count": 32,
     "metadata": {},
     "output_type": "execute_result"
    }
   ],
   "source": [
    "# calculate predicted probabilities for X_test_dtm (well calibrated)\n",
    "y_pred_prob = logreg.predict_proba(X_test_dtm)[:, 1]\n",
    "y_pred_prob"
   ]
  },
  {
   "cell_type": "code",
   "execution_count": 33,
   "metadata": {
    "collapsed": false
   },
   "outputs": [
    {
     "data": {
      "text/plain": [
       "0.8098935403826143"
      ]
     },
     "execution_count": 33,
     "metadata": {},
     "output_type": "execute_result"
    }
   ],
   "source": [
    "# calculate accuracy\n",
    "metrics.accuracy_score(y_test, y_pred_class)"
   ]
  },
  {
   "cell_type": "code",
   "execution_count": 34,
   "metadata": {
    "collapsed": false
   },
   "outputs": [
    {
     "ename": "ValueError",
     "evalue": "multiclass format is not supported",
     "output_type": "error",
     "traceback": [
      "\u001b[0;31m---------------------------------------------------------------------------\u001b[0m",
      "\u001b[0;31mValueError\u001b[0m                                Traceback (most recent call last)",
      "\u001b[0;32m<ipython-input-34-2623aea3dd19>\u001b[0m in \u001b[0;36m<module>\u001b[0;34m()\u001b[0m\n\u001b[1;32m      1\u001b[0m \u001b[0;31m# calculate AUC\u001b[0m\u001b[0;34m\u001b[0m\u001b[0;34m\u001b[0m\u001b[0m\n\u001b[0;32m----> 2\u001b[0;31m \u001b[0mmetrics\u001b[0m\u001b[0;34m.\u001b[0m\u001b[0mroc_auc_score\u001b[0m\u001b[0;34m(\u001b[0m\u001b[0my_test\u001b[0m\u001b[0;34m,\u001b[0m \u001b[0my_pred_prob\u001b[0m\u001b[0;34m)\u001b[0m\u001b[0;34m\u001b[0m\u001b[0m\n\u001b[0m",
      "\u001b[0;32m/Users/kelvin/anaconda/lib/python3.6/site-packages/sklearn/metrics/ranking.py\u001b[0m in \u001b[0;36mroc_auc_score\u001b[0;34m(y_true, y_score, average, sample_weight)\u001b[0m\n\u001b[1;32m    258\u001b[0m     return _average_binary_score(\n\u001b[1;32m    259\u001b[0m         \u001b[0m_binary_roc_auc_score\u001b[0m\u001b[0;34m,\u001b[0m \u001b[0my_true\u001b[0m\u001b[0;34m,\u001b[0m \u001b[0my_score\u001b[0m\u001b[0;34m,\u001b[0m \u001b[0maverage\u001b[0m\u001b[0;34m,\u001b[0m\u001b[0;34m\u001b[0m\u001b[0m\n\u001b[0;32m--> 260\u001b[0;31m         sample_weight=sample_weight)\n\u001b[0m\u001b[1;32m    261\u001b[0m \u001b[0;34m\u001b[0m\u001b[0m\n\u001b[1;32m    262\u001b[0m \u001b[0;34m\u001b[0m\u001b[0m\n",
      "\u001b[0;32m/Users/kelvin/anaconda/lib/python3.6/site-packages/sklearn/metrics/base.py\u001b[0m in \u001b[0;36m_average_binary_score\u001b[0;34m(binary_metric, y_true, y_score, average, sample_weight)\u001b[0m\n\u001b[1;32m     79\u001b[0m     \u001b[0my_type\u001b[0m \u001b[0;34m=\u001b[0m \u001b[0mtype_of_target\u001b[0m\u001b[0;34m(\u001b[0m\u001b[0my_true\u001b[0m\u001b[0;34m)\u001b[0m\u001b[0;34m\u001b[0m\u001b[0m\n\u001b[1;32m     80\u001b[0m     \u001b[0;32mif\u001b[0m \u001b[0my_type\u001b[0m \u001b[0;32mnot\u001b[0m \u001b[0;32min\u001b[0m \u001b[0;34m(\u001b[0m\u001b[0;34m\"binary\"\u001b[0m\u001b[0;34m,\u001b[0m \u001b[0;34m\"multilabel-indicator\"\u001b[0m\u001b[0;34m)\u001b[0m\u001b[0;34m:\u001b[0m\u001b[0;34m\u001b[0m\u001b[0m\n\u001b[0;32m---> 81\u001b[0;31m         \u001b[0;32mraise\u001b[0m \u001b[0mValueError\u001b[0m\u001b[0;34m(\u001b[0m\u001b[0;34m\"{0} format is not supported\"\u001b[0m\u001b[0;34m.\u001b[0m\u001b[0mformat\u001b[0m\u001b[0;34m(\u001b[0m\u001b[0my_type\u001b[0m\u001b[0;34m)\u001b[0m\u001b[0;34m)\u001b[0m\u001b[0;34m\u001b[0m\u001b[0m\n\u001b[0m\u001b[1;32m     82\u001b[0m \u001b[0;34m\u001b[0m\u001b[0m\n\u001b[1;32m     83\u001b[0m     \u001b[0;32mif\u001b[0m \u001b[0my_type\u001b[0m \u001b[0;34m==\u001b[0m \u001b[0;34m\"binary\"\u001b[0m\u001b[0;34m:\u001b[0m\u001b[0;34m\u001b[0m\u001b[0m\n",
      "\u001b[0;31mValueError\u001b[0m: multiclass format is not supported"
     ]
    }
   ],
   "source": [
    "# calculate AUC\n",
    "metrics.roc_auc_score(y_test, y_pred_prob)"
   ]
  },
  {
   "cell_type": "code",
   "execution_count": 35,
   "metadata": {
    "collapsed": false
   },
   "outputs": [
    {
     "data": {
      "text/plain": [
       "22273"
      ]
     },
     "execution_count": 35,
     "metadata": {},
     "output_type": "execute_result"
    }
   ],
   "source": [
    "# store the vocabulary of X_train\n",
    "X_train_tokens = vect.get_feature_names()\n",
    "len(X_train_tokens)"
   ]
  },
  {
   "cell_type": "code",
   "execution_count": 36,
   "metadata": {
    "collapsed": false
   },
   "outputs": [
    {
     "name": "stdout",
     "output_type": "stream",
     "text": [
      "['aafia', 'aah', 'aamaq', 'aamir', 'aan', 'aapl', 'aaron', 'aback', 'abadam', 'abadi', 'abagnale', 'abana', 'abandon', 'abandoned', 'abandoning', 'abandonment', 'abarca', 'abassi', 'abated', 'abavley', 'abbess', 'abbie', 'abc', 'abcdedgar', 'abdallah', 'abdan', 'abde', 'abdel', 'abderrahmane', 'abdi', 'abdiqadir', 'abdomen', 'abdominal', 'abdu', 'abduallah', 'abducted', 'abducting', 'abduction', 'abductions', 'abdul', 'abdulkadir', 'abdulla', 'abdullah', 'abdulrahman', 'abetting', 'abhorrent', 'abiad', 'abide', 'abiding', 'abilities']\n"
     ]
    }
   ],
   "source": [
    "# examine the first 50 tokens\n",
    "print(X_train_tokens[0:50])"
   ]
  },
  {
   "cell_type": "code",
   "execution_count": 37,
   "metadata": {
    "collapsed": false
   },
   "outputs": [
    {
     "name": "stdout",
     "output_type": "stream",
     "text": [
      "['zanders', 'zappos', 'zara', 'zarqawi', 'zawahiri', 'zawr', 'zayn', 'zazzle', 'zdyidasqdl', 'zealand', 'zealous', 'zehaf', 'zehafs', 'zeid', 'zeina', 'zeleny', 'zep', 'zeppelin', 'zero', 'zeroed', 'zeroing', 'zeron', 'zeynep', 'zhejiang', 'zhenghua', 'zhou', 'zia', 'ziggy', 'zimmer', 'zimmerman', 'zing', 'zintan', 'zionist', 'zip', 'zipper', 'zipping', 'zm', 'zobl', 'zombies', 'zone', 'zones', 'zoning', 'zoology', 'zor', 'zs', 'zubayr', 'zubeyr', 'zuckerberg', 'zulu', 'zxycaeuwb']\n"
     ]
    }
   ],
   "source": [
    "# examine the last 50 tokens\n",
    "print(X_train_tokens[-50:])"
   ]
  },
  {
   "cell_type": "code",
   "execution_count": 38,
   "metadata": {
    "collapsed": false
   },
   "outputs": [
    {
     "data": {
      "text/plain": [
       "array([[   0.,    3.,    0., ...,    6.,    1.,   10.],\n",
       "       [   0.,    1.,    0., ...,    4.,    0.,    0.],\n",
       "       [  63.,    0.,   17., ...,   20.,    0.,    4.],\n",
       "       [ 105.,    8.,    0., ...,   27.,   10.,  136.]])"
      ]
     },
     "execution_count": 38,
     "metadata": {},
     "output_type": "execute_result"
    }
   ],
   "source": [
    "# Naive Bayes counts the number of times each token appears in each class\n",
    "nb.feature_count_"
   ]
  },
  {
   "cell_type": "code",
   "execution_count": 39,
   "metadata": {
    "collapsed": false
   },
   "outputs": [
    {
     "data": {
      "text/plain": [
       "(4, 22273)"
      ]
     },
     "execution_count": 39,
     "metadata": {},
     "output_type": "execute_result"
    }
   ],
   "source": [
    "# rows represent classes, columns represent tokens\n",
    "nb.feature_count_.shape"
   ]
  },
  {
   "cell_type": "code",
   "execution_count": 40,
   "metadata": {
    "collapsed": false
   },
   "outputs": [
    {
     "data": {
      "text/plain": [
       "array([  0.,   3.,   0., ...,   6.,   1.,  10.])"
      ]
     },
     "execution_count": 40,
     "metadata": {},
     "output_type": "execute_result"
    }
   ],
   "source": [
    "agree_token_count = nb.feature_count_[0, :]\n",
    "agree_token_count"
   ]
  },
  {
   "cell_type": "code",
   "execution_count": 41,
   "metadata": {
    "collapsed": false
   },
   "outputs": [
    {
     "data": {
      "text/plain": [
       "array([ 0.,  1.,  0., ...,  4.,  0.,  0.])"
      ]
     },
     "execution_count": 41,
     "metadata": {},
     "output_type": "execute_result"
    }
   ],
   "source": [
    "# number of times each token appears across all disagree articles\n",
    "disagree_token_count = nb.feature_count_[1, :]\n",
    "disagree_token_count"
   ]
  },
  {
   "cell_type": "code",
   "execution_count": 42,
   "metadata": {
    "collapsed": false
   },
   "outputs": [
    {
     "data": {
      "text/plain": [
       "array([ 63.,   0.,  17., ...,  20.,   0.,   4.])"
      ]
     },
     "execution_count": 42,
     "metadata": {},
     "output_type": "execute_result"
    }
   ],
   "source": [
    "discuss_token_count = nb.feature_count_[2, :]\n",
    "discuss_token_count"
   ]
  },
  {
   "cell_type": "code",
   "execution_count": 43,
   "metadata": {
    "collapsed": false
   },
   "outputs": [
    {
     "data": {
      "text/plain": [
       "array([ 105.,    8.,    0., ...,   27.,   10.,  136.])"
      ]
     },
     "execution_count": 43,
     "metadata": {},
     "output_type": "execute_result"
    }
   ],
   "source": [
    "unrelated_token_count = nb.feature_count_[3, :]\n",
    "unrelated_token_count"
   ]
  },
  {
   "cell_type": "code",
   "execution_count": 44,
   "metadata": {
    "collapsed": false
   },
   "outputs": [
    {
     "data": {
      "text/html": [
       "<div>\n",
       "<table border=\"1\" class=\"dataframe\">\n",
       "  <thead>\n",
       "    <tr style=\"text-align: right;\">\n",
       "      <th></th>\n",
       "      <th>agree</th>\n",
       "      <th>disagree</th>\n",
       "      <th>discuss</th>\n",
       "      <th>unrelated</th>\n",
       "    </tr>\n",
       "    <tr>\n",
       "      <th>token</th>\n",
       "      <th></th>\n",
       "      <th></th>\n",
       "      <th></th>\n",
       "      <th></th>\n",
       "    </tr>\n",
       "  </thead>\n",
       "  <tbody>\n",
       "    <tr>\n",
       "      <th>aafia</th>\n",
       "      <td>0.0</td>\n",
       "      <td>0.0</td>\n",
       "      <td>63.0</td>\n",
       "      <td>105.0</td>\n",
       "    </tr>\n",
       "    <tr>\n",
       "      <th>aah</th>\n",
       "      <td>3.0</td>\n",
       "      <td>1.0</td>\n",
       "      <td>0.0</td>\n",
       "      <td>8.0</td>\n",
       "    </tr>\n",
       "    <tr>\n",
       "      <th>aamaq</th>\n",
       "      <td>0.0</td>\n",
       "      <td>0.0</td>\n",
       "      <td>17.0</td>\n",
       "      <td>0.0</td>\n",
       "    </tr>\n",
       "    <tr>\n",
       "      <th>aamir</th>\n",
       "      <td>47.0</td>\n",
       "      <td>0.0</td>\n",
       "      <td>21.0</td>\n",
       "      <td>259.0</td>\n",
       "    </tr>\n",
       "    <tr>\n",
       "      <th>aan</th>\n",
       "      <td>0.0</td>\n",
       "      <td>0.0</td>\n",
       "      <td>3.0</td>\n",
       "      <td>5.0</td>\n",
       "    </tr>\n",
       "  </tbody>\n",
       "</table>\n",
       "</div>"
      ],
      "text/plain": [
       "       agree  disagree  discuss  unrelated\n",
       "token                                     \n",
       "aafia    0.0       0.0     63.0      105.0\n",
       "aah      3.0       1.0      0.0        8.0\n",
       "aamaq    0.0       0.0     17.0        0.0\n",
       "aamir   47.0       0.0     21.0      259.0\n",
       "aan      0.0       0.0      3.0        5.0"
      ]
     },
     "execution_count": 44,
     "metadata": {},
     "output_type": "execute_result"
    }
   ],
   "source": [
    "# create a DataFrame of tokens with their separate class counts\n",
    "tokens = pd.DataFrame({'token':X_train_tokens, 'agree':agree_token_count, 'disagree':disagree_token_count, 'discuss':discuss_token_count, 'unrelated':unrelated_token_count}).set_index('token')\n",
    "tokens.head()"
   ]
  },
  {
   "cell_type": "code",
   "execution_count": 45,
   "metadata": {
    "collapsed": false
   },
   "outputs": [
    {
     "data": {
      "text/html": [
       "<div>\n",
       "<table border=\"1\" class=\"dataframe\">\n",
       "  <thead>\n",
       "    <tr style=\"text-align: right;\">\n",
       "      <th></th>\n",
       "      <th>agree</th>\n",
       "      <th>disagree</th>\n",
       "      <th>discuss</th>\n",
       "      <th>unrelated</th>\n",
       "    </tr>\n",
       "    <tr>\n",
       "      <th>token</th>\n",
       "      <th></th>\n",
       "      <th></th>\n",
       "      <th></th>\n",
       "      <th></th>\n",
       "    </tr>\n",
       "  </thead>\n",
       "  <tbody>\n",
       "    <tr>\n",
       "      <th>interrogation</th>\n",
       "      <td>10.0</td>\n",
       "      <td>12.0</td>\n",
       "      <td>46.0</td>\n",
       "      <td>189.0</td>\n",
       "    </tr>\n",
       "    <tr>\n",
       "      <th>miss</th>\n",
       "      <td>95.0</td>\n",
       "      <td>20.0</td>\n",
       "      <td>137.0</td>\n",
       "      <td>1191.0</td>\n",
       "    </tr>\n",
       "    <tr>\n",
       "      <th>faction</th>\n",
       "      <td>11.0</td>\n",
       "      <td>7.0</td>\n",
       "      <td>71.0</td>\n",
       "      <td>134.0</td>\n",
       "    </tr>\n",
       "    <tr>\n",
       "      <th>munchies</th>\n",
       "      <td>5.0</td>\n",
       "      <td>3.0</td>\n",
       "      <td>0.0</td>\n",
       "      <td>106.0</td>\n",
       "    </tr>\n",
       "    <tr>\n",
       "      <th>moneymaker</th>\n",
       "      <td>0.0</td>\n",
       "      <td>0.0</td>\n",
       "      <td>1.0</td>\n",
       "      <td>0.0</td>\n",
       "    </tr>\n",
       "  </tbody>\n",
       "</table>\n",
       "</div>"
      ],
      "text/plain": [
       "               agree  disagree  discuss  unrelated\n",
       "token                                             \n",
       "interrogation   10.0      12.0     46.0      189.0\n",
       "miss            95.0      20.0    137.0     1191.0\n",
       "faction         11.0       7.0     71.0      134.0\n",
       "munchies         5.0       3.0      0.0      106.0\n",
       "moneymaker       0.0       0.0      1.0        0.0"
      ]
     },
     "execution_count": 45,
     "metadata": {},
     "output_type": "execute_result"
    }
   ],
   "source": [
    "# examine 5 random DataFrame rows\n",
    "tokens.sample(5, random_state=6)"
   ]
  },
  {
   "cell_type": "code",
   "execution_count": 47,
   "metadata": {
    "collapsed": false
   },
   "outputs": [
    {
     "data": {
      "text/plain": [
       "array([  2755.,    618.,   6640.,  27466.])"
      ]
     },
     "execution_count": 47,
     "metadata": {},
     "output_type": "execute_result"
    }
   ],
   "source": [
    "# Naive Bayes counts the number of observations in each class\n",
    "nb.class_count_"
   ]
  },
  {
   "cell_type": "code",
   "execution_count": 48,
   "metadata": {
    "collapsed": false
   },
   "outputs": [
    {
     "data": {
      "text/html": [
       "<div>\n",
       "<table border=\"1\" class=\"dataframe\">\n",
       "  <thead>\n",
       "    <tr style=\"text-align: right;\">\n",
       "      <th></th>\n",
       "      <th>agree</th>\n",
       "      <th>disagree</th>\n",
       "      <th>discuss</th>\n",
       "      <th>unrelated</th>\n",
       "    </tr>\n",
       "    <tr>\n",
       "      <th>token</th>\n",
       "      <th></th>\n",
       "      <th></th>\n",
       "      <th></th>\n",
       "      <th></th>\n",
       "    </tr>\n",
       "  </thead>\n",
       "  <tbody>\n",
       "    <tr>\n",
       "      <th>interrogation</th>\n",
       "      <td>11.0</td>\n",
       "      <td>13.0</td>\n",
       "      <td>14.0</td>\n",
       "      <td>14.0</td>\n",
       "    </tr>\n",
       "    <tr>\n",
       "      <th>miss</th>\n",
       "      <td>96.0</td>\n",
       "      <td>21.0</td>\n",
       "      <td>22.0</td>\n",
       "      <td>22.0</td>\n",
       "    </tr>\n",
       "    <tr>\n",
       "      <th>faction</th>\n",
       "      <td>12.0</td>\n",
       "      <td>8.0</td>\n",
       "      <td>9.0</td>\n",
       "      <td>9.0</td>\n",
       "    </tr>\n",
       "    <tr>\n",
       "      <th>munchies</th>\n",
       "      <td>6.0</td>\n",
       "      <td>4.0</td>\n",
       "      <td>5.0</td>\n",
       "      <td>5.0</td>\n",
       "    </tr>\n",
       "    <tr>\n",
       "      <th>moneymaker</th>\n",
       "      <td>1.0</td>\n",
       "      <td>1.0</td>\n",
       "      <td>2.0</td>\n",
       "      <td>2.0</td>\n",
       "    </tr>\n",
       "  </tbody>\n",
       "</table>\n",
       "</div>"
      ],
      "text/plain": [
       "               agree  disagree  discuss  unrelated\n",
       "token                                             \n",
       "interrogation   11.0      13.0     14.0       14.0\n",
       "miss            96.0      21.0     22.0       22.0\n",
       "faction         12.0       8.0      9.0        9.0\n",
       "munchies         6.0       4.0      5.0        5.0\n",
       "moneymaker       1.0       1.0      2.0        2.0"
      ]
     },
     "execution_count": 48,
     "metadata": {},
     "output_type": "execute_result"
    }
   ],
   "source": [
    "# add 1 to ham and spam counts to avoid dividing by 0\n",
    "tokens['agree'] = tokens.agree + 1\n",
    "tokens['disagree'] = tokens.disagree + 1\n",
    "tokens['discuss'] = tokens.disagree + 1\n",
    "tokens['unrelated'] = tokens.disagree + 1\n",
    "tokens.sample(5, random_state=6)"
   ]
  },
  {
   "cell_type": "code",
   "execution_count": 50,
   "metadata": {
    "collapsed": false
   },
   "outputs": [
    {
     "data": {
      "text/html": [
       "<div>\n",
       "<table border=\"1\" class=\"dataframe\">\n",
       "  <thead>\n",
       "    <tr style=\"text-align: right;\">\n",
       "      <th></th>\n",
       "      <th>agree</th>\n",
       "      <th>disagree</th>\n",
       "      <th>discuss</th>\n",
       "      <th>unrelated</th>\n",
       "    </tr>\n",
       "    <tr>\n",
       "      <th>token</th>\n",
       "      <th></th>\n",
       "      <th></th>\n",
       "      <th></th>\n",
       "      <th></th>\n",
       "    </tr>\n",
       "  </thead>\n",
       "  <tbody>\n",
       "    <tr>\n",
       "      <th>interrogation</th>\n",
       "      <td>1.449271e-06</td>\n",
       "      <td>0.000034</td>\n",
       "      <td>3.175352e-07</td>\n",
       "      <td>1.855826e-08</td>\n",
       "    </tr>\n",
       "    <tr>\n",
       "      <th>miss</th>\n",
       "      <td>1.264818e-05</td>\n",
       "      <td>0.000055</td>\n",
       "      <td>4.989839e-07</td>\n",
       "      <td>2.916298e-08</td>\n",
       "    </tr>\n",
       "    <tr>\n",
       "      <th>faction</th>\n",
       "      <td>1.581022e-06</td>\n",
       "      <td>0.000021</td>\n",
       "      <td>2.041298e-07</td>\n",
       "      <td>1.193031e-08</td>\n",
       "    </tr>\n",
       "    <tr>\n",
       "      <th>munchies</th>\n",
       "      <td>7.905112e-07</td>\n",
       "      <td>0.000010</td>\n",
       "      <td>1.134054e-07</td>\n",
       "      <td>6.627949e-09</td>\n",
       "    </tr>\n",
       "    <tr>\n",
       "      <th>moneymaker</th>\n",
       "      <td>1.317519e-07</td>\n",
       "      <td>0.000003</td>\n",
       "      <td>4.536217e-08</td>\n",
       "      <td>2.651180e-09</td>\n",
       "    </tr>\n",
       "  </tbody>\n",
       "</table>\n",
       "</div>"
      ],
      "text/plain": [
       "                      agree  disagree       discuss     unrelated\n",
       "token                                                            \n",
       "interrogation  1.449271e-06  0.000034  3.175352e-07  1.855826e-08\n",
       "miss           1.264818e-05  0.000055  4.989839e-07  2.916298e-08\n",
       "faction        1.581022e-06  0.000021  2.041298e-07  1.193031e-08\n",
       "munchies       7.905112e-07  0.000010  1.134054e-07  6.627949e-09\n",
       "moneymaker     1.317519e-07  0.000003  4.536217e-08  2.651180e-09"
      ]
     },
     "execution_count": 50,
     "metadata": {},
     "output_type": "execute_result"
    }
   ],
   "source": [
    "# convert the class counts into frequencies\n",
    "tokens['agree'] = tokens.agree / nb.class_count_[0]\n",
    "tokens['disagree'] = tokens.disagree / nb.class_count_[1]\n",
    "tokens['discuss'] = tokens.discuss / nb.class_count_[2]\n",
    "tokens['unrelated'] = tokens.unrelated / nb.class_count_[3]\n",
    "tokens.sample(5, random_state=6)"
   ]
  },
  {
   "cell_type": "code",
   "execution_count": 51,
   "metadata": {
    "collapsed": false
   },
   "outputs": [
    {
     "data": {
      "text/html": [
       "<div>\n",
       "<table border=\"1\" class=\"dataframe\">\n",
       "  <thead>\n",
       "    <tr style=\"text-align: right;\">\n",
       "      <th></th>\n",
       "      <th>agree</th>\n",
       "      <th>disagree</th>\n",
       "      <th>discuss</th>\n",
       "      <th>unrelated</th>\n",
       "      <th>spam_ratio</th>\n",
       "    </tr>\n",
       "    <tr>\n",
       "      <th>token</th>\n",
       "      <th></th>\n",
       "      <th></th>\n",
       "      <th></th>\n",
       "      <th></th>\n",
       "      <th></th>\n",
       "    </tr>\n",
       "  </thead>\n",
       "  <tbody>\n",
       "    <tr>\n",
       "      <th>interrogation</th>\n",
       "      <td>1.449271e-06</td>\n",
       "      <td>0.000034</td>\n",
       "      <td>3.175352e-07</td>\n",
       "      <td>1.855826e-08</td>\n",
       "      <td>1.184757e+09</td>\n",
       "    </tr>\n",
       "    <tr>\n",
       "      <th>miss</th>\n",
       "      <td>1.264818e-05</td>\n",
       "      <td>0.000055</td>\n",
       "      <td>4.989839e-07</td>\n",
       "      <td>2.916298e-08</td>\n",
       "      <td>8.403785e+07</td>\n",
       "    </tr>\n",
       "    <tr>\n",
       "      <th>faction</th>\n",
       "      <td>1.581022e-06</td>\n",
       "      <td>0.000021</td>\n",
       "      <td>2.041298e-07</td>\n",
       "      <td>1.193031e-08</td>\n",
       "      <td>1.764795e+09</td>\n",
       "    </tr>\n",
       "    <tr>\n",
       "      <th>munchies</th>\n",
       "      <td>7.905112e-07</td>\n",
       "      <td>0.000010</td>\n",
       "      <td>1.134054e-07</td>\n",
       "      <td>6.627949e-09</td>\n",
       "      <td>7.059180e+09</td>\n",
       "    </tr>\n",
       "    <tr>\n",
       "      <th>moneymaker</th>\n",
       "      <td>1.317519e-07</td>\n",
       "      <td>0.000003</td>\n",
       "      <td>4.536217e-08</td>\n",
       "      <td>2.651180e-09</td>\n",
       "      <td>1.694203e+11</td>\n",
       "    </tr>\n",
       "  </tbody>\n",
       "</table>\n",
       "</div>"
      ],
      "text/plain": [
       "                      agree  disagree       discuss     unrelated  \\\n",
       "token                                                               \n",
       "interrogation  1.449271e-06  0.000034  3.175352e-07  1.855826e-08   \n",
       "miss           1.264818e-05  0.000055  4.989839e-07  2.916298e-08   \n",
       "faction        1.581022e-06  0.000021  2.041298e-07  1.193031e-08   \n",
       "munchies       7.905112e-07  0.000010  1.134054e-07  6.627949e-09   \n",
       "moneymaker     1.317519e-07  0.000003  4.536217e-08  2.651180e-09   \n",
       "\n",
       "                 spam_ratio  \n",
       "token                        \n",
       "interrogation  1.184757e+09  \n",
       "miss           8.403785e+07  \n",
       "faction        1.764795e+09  \n",
       "munchies       7.059180e+09  \n",
       "moneymaker     1.694203e+11  "
      ]
     },
     "execution_count": 51,
     "metadata": {},
     "output_type": "execute_result"
    }
   ],
   "source": [
    "# calculate the ratio of classes for each token\n",
    "tokens['spam_ratio'] = tokens.unrelated / tokens.agree / tokens.discuss / tokens.disagree\n",
    "tokens.sample(5, random_state=6)"
   ]
  },
  {
   "cell_type": "code",
   "execution_count": 52,
   "metadata": {
    "collapsed": false
   },
   "outputs": [
    {
     "data": {
      "text/html": [
       "<div>\n",
       "<table border=\"1\" class=\"dataframe\">\n",
       "  <thead>\n",
       "    <tr style=\"text-align: right;\">\n",
       "      <th></th>\n",
       "      <th>agree</th>\n",
       "      <th>disagree</th>\n",
       "      <th>discuss</th>\n",
       "      <th>unrelated</th>\n",
       "      <th>spam_ratio</th>\n",
       "    </tr>\n",
       "    <tr>\n",
       "      <th>token</th>\n",
       "      <th></th>\n",
       "      <th></th>\n",
       "      <th></th>\n",
       "      <th></th>\n",
       "      <th></th>\n",
       "    </tr>\n",
       "  </thead>\n",
       "  <tbody>\n",
       "    <tr>\n",
       "      <th>aafia</th>\n",
       "      <td>1.317519e-07</td>\n",
       "      <td>0.000003</td>\n",
       "      <td>4.536217e-08</td>\n",
       "      <td>2.651180e-09</td>\n",
       "      <td>1.694203e+11</td>\n",
       "    </tr>\n",
       "    <tr>\n",
       "      <th>originating</th>\n",
       "      <td>1.317519e-07</td>\n",
       "      <td>0.000003</td>\n",
       "      <td>4.536217e-08</td>\n",
       "      <td>2.651180e-09</td>\n",
       "      <td>1.694203e+11</td>\n",
       "    </tr>\n",
       "    <tr>\n",
       "      <th>doomsayers</th>\n",
       "      <td>1.317519e-07</td>\n",
       "      <td>0.000003</td>\n",
       "      <td>4.536217e-08</td>\n",
       "      <td>2.651180e-09</td>\n",
       "      <td>1.694203e+11</td>\n",
       "    </tr>\n",
       "    <tr>\n",
       "      <th>doocy</th>\n",
       "      <td>1.317519e-07</td>\n",
       "      <td>0.000003</td>\n",
       "      <td>4.536217e-08</td>\n",
       "      <td>2.651180e-09</td>\n",
       "      <td>1.694203e+11</td>\n",
       "    </tr>\n",
       "    <tr>\n",
       "      <th>dont</th>\n",
       "      <td>1.317519e-07</td>\n",
       "      <td>0.000003</td>\n",
       "      <td>4.536217e-08</td>\n",
       "      <td>2.651180e-09</td>\n",
       "      <td>1.694203e+11</td>\n",
       "    </tr>\n",
       "    <tr>\n",
       "      <th>leggings</th>\n",
       "      <td>1.317519e-07</td>\n",
       "      <td>0.000003</td>\n",
       "      <td>4.536217e-08</td>\n",
       "      <td>2.651180e-09</td>\n",
       "      <td>1.694203e+11</td>\n",
       "    </tr>\n",
       "    <tr>\n",
       "      <th>donjuan</th>\n",
       "      <td>1.317519e-07</td>\n",
       "      <td>0.000003</td>\n",
       "      <td>4.536217e-08</td>\n",
       "      <td>2.651180e-09</td>\n",
       "      <td>1.694203e+11</td>\n",
       "    </tr>\n",
       "    <tr>\n",
       "      <th>dongle</th>\n",
       "      <td>1.317519e-07</td>\n",
       "      <td>0.000003</td>\n",
       "      <td>4.536217e-08</td>\n",
       "      <td>2.651180e-09</td>\n",
       "      <td>1.694203e+11</td>\n",
       "    </tr>\n",
       "    <tr>\n",
       "      <th>shoved</th>\n",
       "      <td>1.317519e-07</td>\n",
       "      <td>0.000003</td>\n",
       "      <td>4.536217e-08</td>\n",
       "      <td>2.651180e-09</td>\n",
       "      <td>1.694203e+11</td>\n",
       "    </tr>\n",
       "    <tr>\n",
       "      <th>legislation</th>\n",
       "      <td>1.317519e-07</td>\n",
       "      <td>0.000003</td>\n",
       "      <td>4.536217e-08</td>\n",
       "      <td>2.651180e-09</td>\n",
       "      <td>1.694203e+11</td>\n",
       "    </tr>\n",
       "    <tr>\n",
       "      <th>showcased</th>\n",
       "      <td>1.317519e-07</td>\n",
       "      <td>0.000003</td>\n",
       "      <td>4.536217e-08</td>\n",
       "      <td>2.651180e-09</td>\n",
       "      <td>1.694203e+11</td>\n",
       "    </tr>\n",
       "    <tr>\n",
       "      <th>showcases</th>\n",
       "      <td>1.317519e-07</td>\n",
       "      <td>0.000003</td>\n",
       "      <td>4.536217e-08</td>\n",
       "      <td>2.651180e-09</td>\n",
       "      <td>1.694203e+11</td>\n",
       "    </tr>\n",
       "    <tr>\n",
       "      <th>showcasing</th>\n",
       "      <td>1.317519e-07</td>\n",
       "      <td>0.000003</td>\n",
       "      <td>4.536217e-08</td>\n",
       "      <td>2.651180e-09</td>\n",
       "      <td>1.694203e+11</td>\n",
       "    </tr>\n",
       "    <tr>\n",
       "      <th>legislative</th>\n",
       "      <td>1.317519e-07</td>\n",
       "      <td>0.000003</td>\n",
       "      <td>4.536217e-08</td>\n",
       "      <td>2.651180e-09</td>\n",
       "      <td>1.694203e+11</td>\n",
       "    </tr>\n",
       "    <tr>\n",
       "      <th>dominocollege</th>\n",
       "      <td>1.317519e-07</td>\n",
       "      <td>0.000003</td>\n",
       "      <td>4.536217e-08</td>\n",
       "      <td>2.651180e-09</td>\n",
       "      <td>1.694203e+11</td>\n",
       "    </tr>\n",
       "    <tr>\n",
       "      <th>orphanage</th>\n",
       "      <td>1.317519e-07</td>\n",
       "      <td>0.000003</td>\n",
       "      <td>4.536217e-08</td>\n",
       "      <td>2.651180e-09</td>\n",
       "      <td>1.694203e+11</td>\n",
       "    </tr>\n",
       "    <tr>\n",
       "      <th>dominique</th>\n",
       "      <td>1.317519e-07</td>\n",
       "      <td>0.000003</td>\n",
       "      <td>4.536217e-08</td>\n",
       "      <td>2.651180e-09</td>\n",
       "      <td>1.694203e+11</td>\n",
       "    </tr>\n",
       "    <tr>\n",
       "      <th>showerproof</th>\n",
       "      <td>1.317519e-07</td>\n",
       "      <td>0.000003</td>\n",
       "      <td>4.536217e-08</td>\n",
       "      <td>2.651180e-09</td>\n",
       "      <td>1.694203e+11</td>\n",
       "    </tr>\n",
       "    <tr>\n",
       "      <th>originals</th>\n",
       "      <td>1.317519e-07</td>\n",
       "      <td>0.000003</td>\n",
       "      <td>4.536217e-08</td>\n",
       "      <td>2.651180e-09</td>\n",
       "      <td>1.694203e+11</td>\n",
       "    </tr>\n",
       "    <tr>\n",
       "      <th>dominates</th>\n",
       "      <td>1.317519e-07</td>\n",
       "      <td>0.000003</td>\n",
       "      <td>4.536217e-08</td>\n",
       "      <td>2.651180e-09</td>\n",
       "      <td>1.694203e+11</td>\n",
       "    </tr>\n",
       "    <tr>\n",
       "      <th>dominated</th>\n",
       "      <td>1.317519e-07</td>\n",
       "      <td>0.000003</td>\n",
       "      <td>4.536217e-08</td>\n",
       "      <td>2.651180e-09</td>\n",
       "      <td>1.694203e+11</td>\n",
       "    </tr>\n",
       "    <tr>\n",
       "      <th>dominantly</th>\n",
       "      <td>1.317519e-07</td>\n",
       "      <td>0.000003</td>\n",
       "      <td>4.536217e-08</td>\n",
       "      <td>2.651180e-09</td>\n",
       "      <td>1.694203e+11</td>\n",
       "    </tr>\n",
       "    <tr>\n",
       "      <th>dominant</th>\n",
       "      <td>1.317519e-07</td>\n",
       "      <td>0.000003</td>\n",
       "      <td>4.536217e-08</td>\n",
       "      <td>2.651180e-09</td>\n",
       "      <td>1.694203e+11</td>\n",
       "    </tr>\n",
       "    <tr>\n",
       "      <th>domhnall</th>\n",
       "      <td>1.317519e-07</td>\n",
       "      <td>0.000003</td>\n",
       "      <td>4.536217e-08</td>\n",
       "      <td>2.651180e-09</td>\n",
       "      <td>1.694203e+11</td>\n",
       "    </tr>\n",
       "    <tr>\n",
       "      <th>domesticated</th>\n",
       "      <td>1.317519e-07</td>\n",
       "      <td>0.000003</td>\n",
       "      <td>4.536217e-08</td>\n",
       "      <td>2.651180e-09</td>\n",
       "      <td>1.694203e+11</td>\n",
       "    </tr>\n",
       "    <tr>\n",
       "      <th>showman</th>\n",
       "      <td>1.317519e-07</td>\n",
       "      <td>0.000003</td>\n",
       "      <td>4.536217e-08</td>\n",
       "      <td>2.651180e-09</td>\n",
       "      <td>1.694203e+11</td>\n",
       "    </tr>\n",
       "    <tr>\n",
       "      <th>domenic</th>\n",
       "      <td>1.317519e-07</td>\n",
       "      <td>0.000003</td>\n",
       "      <td>4.536217e-08</td>\n",
       "      <td>2.651180e-09</td>\n",
       "      <td>1.694203e+11</td>\n",
       "    </tr>\n",
       "    <tr>\n",
       "      <th>domaine</th>\n",
       "      <td>1.317519e-07</td>\n",
       "      <td>0.000003</td>\n",
       "      <td>4.536217e-08</td>\n",
       "      <td>2.651180e-09</td>\n",
       "      <td>1.694203e+11</td>\n",
       "    </tr>\n",
       "    <tr>\n",
       "      <th>shortlands</th>\n",
       "      <td>1.317519e-07</td>\n",
       "      <td>0.000003</td>\n",
       "      <td>4.536217e-08</td>\n",
       "      <td>2.651180e-09</td>\n",
       "      <td>1.694203e+11</td>\n",
       "    </tr>\n",
       "    <tr>\n",
       "      <th>shortened</th>\n",
       "      <td>1.317519e-07</td>\n",
       "      <td>0.000003</td>\n",
       "      <td>4.536217e-08</td>\n",
       "      <td>2.651180e-09</td>\n",
       "      <td>1.694203e+11</td>\n",
       "    </tr>\n",
       "    <tr>\n",
       "      <th>...</th>\n",
       "      <td>...</td>\n",
       "      <td>...</td>\n",
       "      <td>...</td>\n",
       "      <td>...</td>\n",
       "      <td>...</td>\n",
       "    </tr>\n",
       "    <tr>\n",
       "      <th>we</th>\n",
       "      <td>4.496691e-04</td>\n",
       "      <td>0.002370</td>\n",
       "      <td>2.054906e-05</td>\n",
       "      <td>1.200984e-06</td>\n",
       "      <td>5.485050e+04</td>\n",
       "    </tr>\n",
       "    <tr>\n",
       "      <th>had</th>\n",
       "      <td>4.956505e-04</td>\n",
       "      <td>0.002160</td>\n",
       "      <td>1.873458e-05</td>\n",
       "      <td>1.094937e-06</td>\n",
       "      <td>5.458744e+04</td>\n",
       "    </tr>\n",
       "    <tr>\n",
       "      <th>are</th>\n",
       "      <td>4.791816e-04</td>\n",
       "      <td>0.002469</td>\n",
       "      <td>2.141094e-05</td>\n",
       "      <td>1.251357e-06</td>\n",
       "      <td>4.939813e+04</td>\n",
       "    </tr>\n",
       "    <tr>\n",
       "      <th>but</th>\n",
       "      <td>4.704859e-04</td>\n",
       "      <td>0.002561</td>\n",
       "      <td>2.220478e-05</td>\n",
       "      <td>1.297752e-06</td>\n",
       "      <td>4.851061e+04</td>\n",
       "    </tr>\n",
       "    <tr>\n",
       "      <th>they</th>\n",
       "      <td>4.811578e-04</td>\n",
       "      <td>0.002841</td>\n",
       "      <td>2.463166e-05</td>\n",
       "      <td>1.439591e-06</td>\n",
       "      <td>4.275678e+04</td>\n",
       "    </tr>\n",
       "    <tr>\n",
       "      <th>be</th>\n",
       "      <td>5.346491e-04</td>\n",
       "      <td>0.002982</td>\n",
       "      <td>2.585644e-05</td>\n",
       "      <td>1.511172e-06</td>\n",
       "      <td>3.665470e+04</td>\n",
       "    </tr>\n",
       "    <tr>\n",
       "      <th>an</th>\n",
       "      <td>5.657425e-04</td>\n",
       "      <td>0.002956</td>\n",
       "      <td>2.562963e-05</td>\n",
       "      <td>1.497917e-06</td>\n",
       "      <td>3.494697e+04</td>\n",
       "    </tr>\n",
       "    <tr>\n",
       "      <th>has</th>\n",
       "      <td>6.061904e-04</td>\n",
       "      <td>0.002770</td>\n",
       "      <td>2.401927e-05</td>\n",
       "      <td>1.403800e-06</td>\n",
       "      <td>3.480387e+04</td>\n",
       "    </tr>\n",
       "    <tr>\n",
       "      <th>this</th>\n",
       "      <td>4.736480e-04</td>\n",
       "      <td>0.003671</td>\n",
       "      <td>3.182156e-05</td>\n",
       "      <td>1.859803e-06</td>\n",
       "      <td>3.361387e+04</td>\n",
       "    </tr>\n",
       "    <tr>\n",
       "      <th>at</th>\n",
       "      <td>6.826064e-04</td>\n",
       "      <td>0.002610</td>\n",
       "      <td>2.263572e-05</td>\n",
       "      <td>1.322939e-06</td>\n",
       "      <td>3.279871e+04</td>\n",
       "    </tr>\n",
       "    <tr>\n",
       "      <th>not</th>\n",
       "      <td>5.421590e-04</td>\n",
       "      <td>0.003443</td>\n",
       "      <td>2.984831e-05</td>\n",
       "      <td>1.744476e-06</td>\n",
       "      <td>3.130905e+04</td>\n",
       "    </tr>\n",
       "    <tr>\n",
       "      <th>from</th>\n",
       "      <td>6.324090e-04</td>\n",
       "      <td>0.002998</td>\n",
       "      <td>2.599252e-05</td>\n",
       "      <td>1.519126e-06</td>\n",
       "      <td>3.082611e+04</td>\n",
       "    </tr>\n",
       "    <tr>\n",
       "      <th>as</th>\n",
       "      <td>7.094838e-04</td>\n",
       "      <td>0.003103</td>\n",
       "      <td>2.689977e-05</td>\n",
       "      <td>1.572150e-06</td>\n",
       "      <td>2.654981e+04</td>\n",
       "    </tr>\n",
       "    <tr>\n",
       "      <th>by</th>\n",
       "      <td>7.056630e-04</td>\n",
       "      <td>0.003336</td>\n",
       "      <td>2.891838e-05</td>\n",
       "      <td>1.690127e-06</td>\n",
       "      <td>2.482879e+04</td>\n",
       "    </tr>\n",
       "    <tr>\n",
       "      <th>have</th>\n",
       "      <td>6.922243e-04</td>\n",
       "      <td>0.003878</td>\n",
       "      <td>3.361337e-05</td>\n",
       "      <td>1.964524e-06</td>\n",
       "      <td>2.177310e+04</td>\n",
       "    </tr>\n",
       "    <tr>\n",
       "      <th>with</th>\n",
       "      <td>8.450565e-04</td>\n",
       "      <td>0.003736</td>\n",
       "      <td>3.238859e-05</td>\n",
       "      <td>1.892942e-06</td>\n",
       "      <td>1.851026e+04</td>\n",
       "    </tr>\n",
       "    <tr>\n",
       "      <th>his</th>\n",
       "      <td>8.811565e-04</td>\n",
       "      <td>0.003611</td>\n",
       "      <td>3.129990e-05</td>\n",
       "      <td>1.829314e-06</td>\n",
       "      <td>1.836982e+04</td>\n",
       "    </tr>\n",
       "    <tr>\n",
       "      <th>said</th>\n",
       "      <td>8.504583e-04</td>\n",
       "      <td>0.004061</td>\n",
       "      <td>3.520105e-05</td>\n",
       "      <td>2.057315e-06</td>\n",
       "      <td>1.692222e+04</td>\n",
       "    </tr>\n",
       "    <tr>\n",
       "      <th>for</th>\n",
       "      <td>9.284554e-04</td>\n",
       "      <td>0.004265</td>\n",
       "      <td>3.697017e-05</td>\n",
       "      <td>2.160711e-06</td>\n",
       "      <td>1.475843e+04</td>\n",
       "    </tr>\n",
       "    <tr>\n",
       "      <th>he</th>\n",
       "      <td>1.094331e-03</td>\n",
       "      <td>0.005441</td>\n",
       "      <td>4.715398e-05</td>\n",
       "      <td>2.755901e-06</td>\n",
       "      <td>9.815852e+03</td>\n",
       "    </tr>\n",
       "    <tr>\n",
       "      <th>it</th>\n",
       "      <td>1.129641e-03</td>\n",
       "      <td>0.006475</td>\n",
       "      <td>5.611301e-05</td>\n",
       "      <td>3.279509e-06</td>\n",
       "      <td>7.990204e+03</td>\n",
       "    </tr>\n",
       "    <tr>\n",
       "      <th>on</th>\n",
       "      <td>1.201314e-03</td>\n",
       "      <td>0.006090</td>\n",
       "      <td>5.277889e-05</td>\n",
       "      <td>3.084648e-06</td>\n",
       "      <td>7.988333e+03</td>\n",
       "    </tr>\n",
       "    <tr>\n",
       "      <th>is</th>\n",
       "      <td>1.144924e-03</td>\n",
       "      <td>0.006598</td>\n",
       "      <td>5.717902e-05</td>\n",
       "      <td>3.341812e-06</td>\n",
       "      <td>7.736511e+03</td>\n",
       "    </tr>\n",
       "    <tr>\n",
       "      <th>was</th>\n",
       "      <td>1.431089e-03</td>\n",
       "      <td>0.006507</td>\n",
       "      <td>5.638518e-05</td>\n",
       "      <td>3.295416e-06</td>\n",
       "      <td>6.276670e+03</td>\n",
       "    </tr>\n",
       "    <tr>\n",
       "      <th>that</th>\n",
       "      <td>1.542946e-03</td>\n",
       "      <td>0.008970</td>\n",
       "      <td>7.772808e-05</td>\n",
       "      <td>4.542796e-06</td>\n",
       "      <td>4.222641e+03</td>\n",
       "    </tr>\n",
       "    <tr>\n",
       "      <th>in</th>\n",
       "      <td>2.729635e-03</td>\n",
       "      <td>0.010450</td>\n",
       "      <td>9.054289e-05</td>\n",
       "      <td>5.291755e-06</td>\n",
       "      <td>2.048972e+03</td>\n",
       "    </tr>\n",
       "    <tr>\n",
       "      <th>and</th>\n",
       "      <td>2.710268e-03</td>\n",
       "      <td>0.012136</td>\n",
       "      <td>1.051495e-04</td>\n",
       "      <td>6.145435e-06</td>\n",
       "      <td>1.776889e+03</td>\n",
       "    </tr>\n",
       "    <tr>\n",
       "      <th>of</th>\n",
       "      <td>2.792086e-03</td>\n",
       "      <td>0.014639</td>\n",
       "      <td>1.268326e-04</td>\n",
       "      <td>7.412698e-06</td>\n",
       "      <td>1.429895e+03</td>\n",
       "    </tr>\n",
       "    <tr>\n",
       "      <th>to</th>\n",
       "      <td>3.363889e-03</td>\n",
       "      <td>0.014419</td>\n",
       "      <td>1.249274e-04</td>\n",
       "      <td>7.301349e-06</td>\n",
       "      <td>1.204940e+03</td>\n",
       "    </tr>\n",
       "    <tr>\n",
       "      <th>the</th>\n",
       "      <td>7.418289e-03</td>\n",
       "      <td>0.034216</td>\n",
       "      <td>2.964191e-04</td>\n",
       "      <td>1.732413e-05</td>\n",
       "      <td>2.302552e+02</td>\n",
       "    </tr>\n",
       "  </tbody>\n",
       "</table>\n",
       "<p>22273 rows × 5 columns</p>\n",
       "</div>"
      ],
      "text/plain": [
       "                      agree  disagree       discuss     unrelated  \\\n",
       "token                                                               \n",
       "aafia          1.317519e-07  0.000003  4.536217e-08  2.651180e-09   \n",
       "originating    1.317519e-07  0.000003  4.536217e-08  2.651180e-09   \n",
       "doomsayers     1.317519e-07  0.000003  4.536217e-08  2.651180e-09   \n",
       "doocy          1.317519e-07  0.000003  4.536217e-08  2.651180e-09   \n",
       "dont           1.317519e-07  0.000003  4.536217e-08  2.651180e-09   \n",
       "leggings       1.317519e-07  0.000003  4.536217e-08  2.651180e-09   \n",
       "donjuan        1.317519e-07  0.000003  4.536217e-08  2.651180e-09   \n",
       "dongle         1.317519e-07  0.000003  4.536217e-08  2.651180e-09   \n",
       "shoved         1.317519e-07  0.000003  4.536217e-08  2.651180e-09   \n",
       "legislation    1.317519e-07  0.000003  4.536217e-08  2.651180e-09   \n",
       "showcased      1.317519e-07  0.000003  4.536217e-08  2.651180e-09   \n",
       "showcases      1.317519e-07  0.000003  4.536217e-08  2.651180e-09   \n",
       "showcasing     1.317519e-07  0.000003  4.536217e-08  2.651180e-09   \n",
       "legislative    1.317519e-07  0.000003  4.536217e-08  2.651180e-09   \n",
       "dominocollege  1.317519e-07  0.000003  4.536217e-08  2.651180e-09   \n",
       "orphanage      1.317519e-07  0.000003  4.536217e-08  2.651180e-09   \n",
       "dominique      1.317519e-07  0.000003  4.536217e-08  2.651180e-09   \n",
       "showerproof    1.317519e-07  0.000003  4.536217e-08  2.651180e-09   \n",
       "originals      1.317519e-07  0.000003  4.536217e-08  2.651180e-09   \n",
       "dominates      1.317519e-07  0.000003  4.536217e-08  2.651180e-09   \n",
       "dominated      1.317519e-07  0.000003  4.536217e-08  2.651180e-09   \n",
       "dominantly     1.317519e-07  0.000003  4.536217e-08  2.651180e-09   \n",
       "dominant       1.317519e-07  0.000003  4.536217e-08  2.651180e-09   \n",
       "domhnall       1.317519e-07  0.000003  4.536217e-08  2.651180e-09   \n",
       "domesticated   1.317519e-07  0.000003  4.536217e-08  2.651180e-09   \n",
       "showman        1.317519e-07  0.000003  4.536217e-08  2.651180e-09   \n",
       "domenic        1.317519e-07  0.000003  4.536217e-08  2.651180e-09   \n",
       "domaine        1.317519e-07  0.000003  4.536217e-08  2.651180e-09   \n",
       "shortlands     1.317519e-07  0.000003  4.536217e-08  2.651180e-09   \n",
       "shortened      1.317519e-07  0.000003  4.536217e-08  2.651180e-09   \n",
       "...                     ...       ...           ...           ...   \n",
       "we             4.496691e-04  0.002370  2.054906e-05  1.200984e-06   \n",
       "had            4.956505e-04  0.002160  1.873458e-05  1.094937e-06   \n",
       "are            4.791816e-04  0.002469  2.141094e-05  1.251357e-06   \n",
       "but            4.704859e-04  0.002561  2.220478e-05  1.297752e-06   \n",
       "they           4.811578e-04  0.002841  2.463166e-05  1.439591e-06   \n",
       "be             5.346491e-04  0.002982  2.585644e-05  1.511172e-06   \n",
       "an             5.657425e-04  0.002956  2.562963e-05  1.497917e-06   \n",
       "has            6.061904e-04  0.002770  2.401927e-05  1.403800e-06   \n",
       "this           4.736480e-04  0.003671  3.182156e-05  1.859803e-06   \n",
       "at             6.826064e-04  0.002610  2.263572e-05  1.322939e-06   \n",
       "not            5.421590e-04  0.003443  2.984831e-05  1.744476e-06   \n",
       "from           6.324090e-04  0.002998  2.599252e-05  1.519126e-06   \n",
       "as             7.094838e-04  0.003103  2.689977e-05  1.572150e-06   \n",
       "by             7.056630e-04  0.003336  2.891838e-05  1.690127e-06   \n",
       "have           6.922243e-04  0.003878  3.361337e-05  1.964524e-06   \n",
       "with           8.450565e-04  0.003736  3.238859e-05  1.892942e-06   \n",
       "his            8.811565e-04  0.003611  3.129990e-05  1.829314e-06   \n",
       "said           8.504583e-04  0.004061  3.520105e-05  2.057315e-06   \n",
       "for            9.284554e-04  0.004265  3.697017e-05  2.160711e-06   \n",
       "he             1.094331e-03  0.005441  4.715398e-05  2.755901e-06   \n",
       "it             1.129641e-03  0.006475  5.611301e-05  3.279509e-06   \n",
       "on             1.201314e-03  0.006090  5.277889e-05  3.084648e-06   \n",
       "is             1.144924e-03  0.006598  5.717902e-05  3.341812e-06   \n",
       "was            1.431089e-03  0.006507  5.638518e-05  3.295416e-06   \n",
       "that           1.542946e-03  0.008970  7.772808e-05  4.542796e-06   \n",
       "in             2.729635e-03  0.010450  9.054289e-05  5.291755e-06   \n",
       "and            2.710268e-03  0.012136  1.051495e-04  6.145435e-06   \n",
       "of             2.792086e-03  0.014639  1.268326e-04  7.412698e-06   \n",
       "to             3.363889e-03  0.014419  1.249274e-04  7.301349e-06   \n",
       "the            7.418289e-03  0.034216  2.964191e-04  1.732413e-05   \n",
       "\n",
       "                 spam_ratio  \n",
       "token                        \n",
       "aafia          1.694203e+11  \n",
       "originating    1.694203e+11  \n",
       "doomsayers     1.694203e+11  \n",
       "doocy          1.694203e+11  \n",
       "dont           1.694203e+11  \n",
       "leggings       1.694203e+11  \n",
       "donjuan        1.694203e+11  \n",
       "dongle         1.694203e+11  \n",
       "shoved         1.694203e+11  \n",
       "legislation    1.694203e+11  \n",
       "showcased      1.694203e+11  \n",
       "showcases      1.694203e+11  \n",
       "showcasing     1.694203e+11  \n",
       "legislative    1.694203e+11  \n",
       "dominocollege  1.694203e+11  \n",
       "orphanage      1.694203e+11  \n",
       "dominique      1.694203e+11  \n",
       "showerproof    1.694203e+11  \n",
       "originals      1.694203e+11  \n",
       "dominates      1.694203e+11  \n",
       "dominated      1.694203e+11  \n",
       "dominantly     1.694203e+11  \n",
       "dominant       1.694203e+11  \n",
       "domhnall       1.694203e+11  \n",
       "domesticated   1.694203e+11  \n",
       "showman        1.694203e+11  \n",
       "domenic        1.694203e+11  \n",
       "domaine        1.694203e+11  \n",
       "shortlands     1.694203e+11  \n",
       "shortened      1.694203e+11  \n",
       "...                     ...  \n",
       "we             5.485050e+04  \n",
       "had            5.458744e+04  \n",
       "are            4.939813e+04  \n",
       "but            4.851061e+04  \n",
       "they           4.275678e+04  \n",
       "be             3.665470e+04  \n",
       "an             3.494697e+04  \n",
       "has            3.480387e+04  \n",
       "this           3.361387e+04  \n",
       "at             3.279871e+04  \n",
       "not            3.130905e+04  \n",
       "from           3.082611e+04  \n",
       "as             2.654981e+04  \n",
       "by             2.482879e+04  \n",
       "have           2.177310e+04  \n",
       "with           1.851026e+04  \n",
       "his            1.836982e+04  \n",
       "said           1.692222e+04  \n",
       "for            1.475843e+04  \n",
       "he             9.815852e+03  \n",
       "it             7.990204e+03  \n",
       "on             7.988333e+03  \n",
       "is             7.736511e+03  \n",
       "was            6.276670e+03  \n",
       "that           4.222641e+03  \n",
       "in             2.048972e+03  \n",
       "and            1.776889e+03  \n",
       "of             1.429895e+03  \n",
       "to             1.204940e+03  \n",
       "the            2.302552e+02  \n",
       "\n",
       "[22273 rows x 5 columns]"
      ]
     },
     "execution_count": 52,
     "metadata": {},
     "output_type": "execute_result"
    }
   ],
   "source": [
    "# examine the DataFrame sorted by spam_ratio\n",
    "# note: use sort() instead of sort_values() for pandas 0.16.2 and earlier\n",
    "tokens.sort_values('spam_ratio', ascending=False)"
   ]
  },
  {
   "cell_type": "code",
   "execution_count": null,
   "metadata": {
    "collapsed": false,
    "scrolled": true
   },
   "outputs": [],
   "source": [
    "from sklearn import svm\n",
    "clf = svm.SVC(kernel='linear', C=1).fit(X_train_dtm, y_train)\n",
    "clf.score(X_test_dtm, y_test) "
   ]
  },
  {
   "cell_type": "code",
   "execution_count": null,
   "metadata": {
    "collapsed": false
   },
   "outputs": [],
   "source": [
    "from sklearn import metrics\n",
    "scores = cross_val_score(clf, X_test_dtm, y_test, cv=5, scoring='f1_macro')"
   ]
  },
  {
   "cell_type": "code",
   "execution_count": 215,
   "metadata": {
    "collapsed": false
   },
   "outputs": [
    {
     "data": {
      "text/plain": [
       "array([ 0.32343234,  0.434411  ,  0.32552954,  0.32444444,  0.32444444])"
      ]
     },
     "execution_count": 215,
     "metadata": {},
     "output_type": "execute_result"
    }
   ],
   "source": [
    "scores"
   ]
  },
  {
   "cell_type": "code",
   "execution_count": null,
   "metadata": {
    "collapsed": true
   },
   "outputs": [],
   "source": []
  }
 ],
 "metadata": {
  "kernelspec": {
   "display_name": "Python 3",
   "language": "python",
   "name": "python3"
  },
  "language_info": {
   "codemirror_mode": {
    "name": "ipython",
    "version": 3
   },
   "file_extension": ".py",
   "mimetype": "text/x-python",
   "name": "python",
   "nbconvert_exporter": "python",
   "pygments_lexer": "ipython3",
   "version": "3.6.0"
  }
 },
 "nbformat": 4,
 "nbformat_minor": 2
}
